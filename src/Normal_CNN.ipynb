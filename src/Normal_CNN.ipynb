{
 "cells": [
  {
   "cell_type": "markdown",
   "metadata": {},
   "source": [
    "## Transfer Learning- Normal CNN"
   ]
  },
  {
   "cell_type": "code",
   "execution_count": 1,
   "metadata": {},
   "outputs": [],
   "source": [
    "import os\n",
    "import numpy as np\n",
    "import matplotlib.pyplot as plt\n",
    "import cv2\n",
    "import random\n"
   ]
  },
  {
   "cell_type": "code",
   "execution_count": 2,
   "metadata": {},
   "outputs": [
    {
     "name": "stderr",
     "output_type": "stream",
     "text": [
      "D:\\Software\\Anaconda\\envs\\ML\\lib\\site-packages\\tensorflow\\python\\framework\\dtypes.py:516: FutureWarning: Passing (type, 1) or '1type' as a synonym of type is deprecated; in a future version of numpy, it will be understood as (type, (1,)) / '(1,)type'.\n",
      "  _np_qint8 = np.dtype([(\"qint8\", np.int8, 1)])\n",
      "D:\\Software\\Anaconda\\envs\\ML\\lib\\site-packages\\tensorflow\\python\\framework\\dtypes.py:517: FutureWarning: Passing (type, 1) or '1type' as a synonym of type is deprecated; in a future version of numpy, it will be understood as (type, (1,)) / '(1,)type'.\n",
      "  _np_quint8 = np.dtype([(\"quint8\", np.uint8, 1)])\n",
      "D:\\Software\\Anaconda\\envs\\ML\\lib\\site-packages\\tensorflow\\python\\framework\\dtypes.py:518: FutureWarning: Passing (type, 1) or '1type' as a synonym of type is deprecated; in a future version of numpy, it will be understood as (type, (1,)) / '(1,)type'.\n",
      "  _np_qint16 = np.dtype([(\"qint16\", np.int16, 1)])\n",
      "D:\\Software\\Anaconda\\envs\\ML\\lib\\site-packages\\tensorflow\\python\\framework\\dtypes.py:519: FutureWarning: Passing (type, 1) or '1type' as a synonym of type is deprecated; in a future version of numpy, it will be understood as (type, (1,)) / '(1,)type'.\n",
      "  _np_quint16 = np.dtype([(\"quint16\", np.uint16, 1)])\n",
      "D:\\Software\\Anaconda\\envs\\ML\\lib\\site-packages\\tensorflow\\python\\framework\\dtypes.py:520: FutureWarning: Passing (type, 1) or '1type' as a synonym of type is deprecated; in a future version of numpy, it will be understood as (type, (1,)) / '(1,)type'.\n",
      "  _np_qint32 = np.dtype([(\"qint32\", np.int32, 1)])\n",
      "D:\\Software\\Anaconda\\envs\\ML\\lib\\site-packages\\tensorflow\\python\\framework\\dtypes.py:525: FutureWarning: Passing (type, 1) or '1type' as a synonym of type is deprecated; in a future version of numpy, it will be understood as (type, (1,)) / '(1,)type'.\n",
      "  np_resource = np.dtype([(\"resource\", np.ubyte, 1)])\n",
      "D:\\Software\\Anaconda\\envs\\ML\\lib\\site-packages\\tensorboard\\compat\\tensorflow_stub\\dtypes.py:541: FutureWarning: Passing (type, 1) or '1type' as a synonym of type is deprecated; in a future version of numpy, it will be understood as (type, (1,)) / '(1,)type'.\n",
      "  _np_qint8 = np.dtype([(\"qint8\", np.int8, 1)])\n",
      "D:\\Software\\Anaconda\\envs\\ML\\lib\\site-packages\\tensorboard\\compat\\tensorflow_stub\\dtypes.py:542: FutureWarning: Passing (type, 1) or '1type' as a synonym of type is deprecated; in a future version of numpy, it will be understood as (type, (1,)) / '(1,)type'.\n",
      "  _np_quint8 = np.dtype([(\"quint8\", np.uint8, 1)])\n",
      "D:\\Software\\Anaconda\\envs\\ML\\lib\\site-packages\\tensorboard\\compat\\tensorflow_stub\\dtypes.py:543: FutureWarning: Passing (type, 1) or '1type' as a synonym of type is deprecated; in a future version of numpy, it will be understood as (type, (1,)) / '(1,)type'.\n",
      "  _np_qint16 = np.dtype([(\"qint16\", np.int16, 1)])\n",
      "D:\\Software\\Anaconda\\envs\\ML\\lib\\site-packages\\tensorboard\\compat\\tensorflow_stub\\dtypes.py:544: FutureWarning: Passing (type, 1) or '1type' as a synonym of type is deprecated; in a future version of numpy, it will be understood as (type, (1,)) / '(1,)type'.\n",
      "  _np_quint16 = np.dtype([(\"quint16\", np.uint16, 1)])\n",
      "D:\\Software\\Anaconda\\envs\\ML\\lib\\site-packages\\tensorboard\\compat\\tensorflow_stub\\dtypes.py:545: FutureWarning: Passing (type, 1) or '1type' as a synonym of type is deprecated; in a future version of numpy, it will be understood as (type, (1,)) / '(1,)type'.\n",
      "  _np_qint32 = np.dtype([(\"qint32\", np.int32, 1)])\n",
      "D:\\Software\\Anaconda\\envs\\ML\\lib\\site-packages\\tensorboard\\compat\\tensorflow_stub\\dtypes.py:550: FutureWarning: Passing (type, 1) or '1type' as a synonym of type is deprecated; in a future version of numpy, it will be understood as (type, (1,)) / '(1,)type'.\n",
      "  np_resource = np.dtype([(\"resource\", np.ubyte, 1)])\n",
      "Using TensorFlow backend.\n"
     ]
    }
   ],
   "source": [
    "import tensorflow as tf\n",
    "from tensorflow import keras\n",
    "from keras.utils import np_utils\n",
    "from keras.models import Sequential, Model\n",
    "from keras.layers import Conv2D,MaxPooling2D,Dense,Flatten,Dropout,Input\n",
    "from keras.layers.convolutional import Convolution2D, MaxPooling2D, ZeroPadding2D\n",
    "from keras.preprocessing.image import ImageDataGenerator, array_to_img, img_to_array, load_img\n",
    "from keras import applications\n",
    "from keras import optimizers"
   ]
  },
  {
   "cell_type": "code",
   "execution_count": 3,
   "metadata": {},
   "outputs": [],
   "source": [
    "#declare the training and testing images, labels\n",
    "train_images=[]\n",
    "test_images=[]\n",
    "train_labels=[]\n",
    "test_labels=[]\n",
    "\n",
    "#number of classes\n",
    "num_classes=10"
   ]
  },
  {
   "cell_type": "code",
   "execution_count": 4,
   "metadata": {},
   "outputs": [],
   "source": [
    "training_dir=\"10-monkey-species/training\"\n",
    "validation_dir=\"10-monkey-species/validation\""
   ]
  },
  {
   "cell_type": "code",
   "execution_count": 5,
   "metadata": {},
   "outputs": [
    {
     "name": "stdout",
     "output_type": "stream",
     "text": [
      "n0 monkeys = 105\n",
      "n1 monkeys = 111\n",
      "n2 monkeys = 110\n",
      "n3 monkeys = 122\n",
      "n4 monkeys = 105\n",
      "n5 monkeys = 113\n",
      "n6 monkeys = 106\n",
      "n7 monkeys = 114\n",
      "n8 monkeys = 106\n",
      "n9 monkeys = 106\n"
     ]
    },
    {
     "data": {
      "text/plain": [
       "1098"
      ]
     },
     "execution_count": 5,
     "metadata": {},
     "output_type": "execute_result"
    }
   ],
   "source": [
    "#Reading training data\n",
    "total_images = 0\n",
    "total_count = 0\n",
    "image_size = 512\n",
    "label = -1\n",
    "training = os.listdir(training_dir)\n",
    "\n",
    "for file in training:\n",
    "    file_name = os.listdir(os.path.join(training_dir, file))\n",
    "    if len(file_name)>0:\n",
    "        label += 1\n",
    "        print(file + \" monkeys = \" + str(len(file_name)))\n",
    "        total_images += len(file_name)\n",
    "        for image in file_name:\n",
    "            path = os.path.join(training_dir, file, image)\n",
    "            img = cv2.imread(path)\n",
    "            img = cv2.resize(img, (image_size, image_size))\n",
    "            img = np.array(img)\n",
    "            train_images.append(img)\n",
    "            train_labels.append(label)\n",
    "            total_count += 1\n",
    "\n",
    "len(train_labels)"
   ]
  },
  {
   "cell_type": "code",
   "execution_count": 6,
   "metadata": {},
   "outputs": [
    {
     "name": "stdout",
     "output_type": "stream",
     "text": [
      "n0 monkeys = 26\n",
      "n1 monkeys = 28\n",
      "n2 monkeys = 27\n",
      "n3 monkeys = 30\n",
      "n4 monkeys = 26\n",
      "n5 monkeys = 28\n",
      "n6 monkeys = 26\n",
      "n7 monkeys = 28\n",
      "n8 monkeys = 27\n",
      "n9 monkeys = 26\n"
     ]
    },
    {
     "data": {
      "text/plain": [
       "272"
      ]
     },
     "execution_count": 6,
     "metadata": {},
     "output_type": "execute_result"
    }
   ],
   "source": [
    "#Reading test data\n",
    "total_images = 0\n",
    "total_count = 0\n",
    "image_size = 512\n",
    "label = -1\n",
    "test = os.listdir(validation_dir)\n",
    "\n",
    "for file in test:\n",
    "    file_name = os.listdir(os.path.join(validation_dir, file))\n",
    "    if len(file_name)>0:\n",
    "        label += 1\n",
    "        print(file + \" monkeys = \" + str(len(file_name)))\n",
    "        total_images += len(file_name)\n",
    "        for image in file_name:\n",
    "            path = os.path.join(validation_dir, file, image)\n",
    "            img = cv2.imread(path)\n",
    "            img = cv2.resize(img, (image_size, image_size))\n",
    "            img = np.array(img)\n",
    "            test_images.append(img)\n",
    "            test_labels.append(label)\n",
    "            total_count += 1\n",
    "\n",
    "len(test_labels)"
   ]
  },
  {
   "cell_type": "code",
   "execution_count": 7,
   "metadata": {},
   "outputs": [],
   "source": [
    "random.seed(1)\n",
    "idx = list(range(len(train_images)))\n",
    "shuffled = random.shuffle(idx)\n",
    "new_train = [train_images[i] for i in idx]\n",
    "new_train_labels = [train_labels[i] for i in idx]"
   ]
  },
  {
   "cell_type": "code",
   "execution_count": 8,
   "metadata": {},
   "outputs": [],
   "source": [
    "#normalizing the data\n",
    "new_train = np.array(new_train)\n",
    "test_images = np.array(test_images)\n",
    "new_train = new_train.astype('float32')/255\n",
    "test_images = test_images.astype('float32')/255\n",
    "\n",
    "new_train_labels = np.array(new_train_labels)\n",
    "test_labels = np.array(test_labels)\n",
    "new_train_labels = keras.utils.to_categorical(new_train_labels,num_classes)\n",
    "test_labels = keras.utils.to_categorical(test_labels,num_classes)\n",
    "\n"
   ]
  },
  {
   "cell_type": "code",
   "execution_count": 9,
   "metadata": {},
   "outputs": [
    {
     "name": "stderr",
     "output_type": "stream",
     "text": [
      "WARNING: Logging before flag parsing goes to stderr.\n",
      "W0816 16:47:25.016617 13964 deprecation_wrapper.py:119] From D:\\Software\\Anaconda\\envs\\ML\\lib\\site-packages\\keras\\backend\\tensorflow_backend.py:74: The name tf.get_default_graph is deprecated. Please use tf.compat.v1.get_default_graph instead.\n",
      "\n",
      "W0816 16:47:25.554240 13964 deprecation_wrapper.py:119] From D:\\Software\\Anaconda\\envs\\ML\\lib\\site-packages\\keras\\backend\\tensorflow_backend.py:517: The name tf.placeholder is deprecated. Please use tf.compat.v1.placeholder instead.\n",
      "\n",
      "W0816 16:47:25.683586 13964 deprecation_wrapper.py:119] From D:\\Software\\Anaconda\\envs\\ML\\lib\\site-packages\\keras\\backend\\tensorflow_backend.py:4138: The name tf.random_uniform is deprecated. Please use tf.random.uniform instead.\n",
      "\n",
      "W0816 16:47:25.787632 13964 deprecation_wrapper.py:119] From D:\\Software\\Anaconda\\envs\\ML\\lib\\site-packages\\keras\\backend\\tensorflow_backend.py:3976: The name tf.nn.max_pool is deprecated. Please use tf.nn.max_pool2d instead.\n",
      "\n",
      "W0816 16:47:25.813562 13964 deprecation_wrapper.py:119] From D:\\Software\\Anaconda\\envs\\ML\\lib\\site-packages\\keras\\backend\\tensorflow_backend.py:133: The name tf.placeholder_with_default is deprecated. Please use tf.compat.v1.placeholder_with_default instead.\n",
      "\n",
      "W0816 16:47:25.827974 13964 deprecation.py:506] From D:\\Software\\Anaconda\\envs\\ML\\lib\\site-packages\\keras\\backend\\tensorflow_backend.py:3445: calling dropout (from tensorflow.python.ops.nn_ops) with keep_prob is deprecated and will be removed in a future version.\n",
      "Instructions for updating:\n",
      "Please use `rate` instead of `keep_prob`. Rate should be set to `rate = 1 - keep_prob`.\n"
     ]
    }
   ],
   "source": [
    "#Building the CNN model\n",
    "model=Sequential()\n",
    "model.add(Conv2D(32, (3, 3), activation='relu', input_shape=(512, 512, 3)))\n",
    "model.add(MaxPooling2D(pool_size=(2, 2)))\n",
    "model.add(Conv2D(64, (3, 3), activation='relu'))\n",
    "model.add(MaxPooling2D(pool_size=(2, 2)))\n",
    "model.add((Conv2D(64, (3,3), activation='relu' )))\n",
    "model.add(MaxPooling2D(pool_size= (2,2)))\n",
    "model.add(Dropout(0.25))\n",
    "model.add(Flatten())\n",
    "model.add(Dense(128, activation='relu'))\n",
    "model.add(Dropout(0.5))\n",
    "model.add(Dense(10, activation='softmax'))"
   ]
  },
  {
   "cell_type": "code",
   "execution_count": 10,
   "metadata": {},
   "outputs": [
    {
     "name": "stdout",
     "output_type": "stream",
     "text": [
      "_________________________________________________________________\n",
      "Layer (type)                 Output Shape              Param #   \n",
      "=================================================================\n",
      "conv2d_1 (Conv2D)            (None, 510, 510, 32)      896       \n",
      "_________________________________________________________________\n",
      "max_pooling2d_1 (MaxPooling2 (None, 255, 255, 32)      0         \n",
      "_________________________________________________________________\n",
      "conv2d_2 (Conv2D)            (None, 253, 253, 64)      18496     \n",
      "_________________________________________________________________\n",
      "max_pooling2d_2 (MaxPooling2 (None, 126, 126, 64)      0         \n",
      "_________________________________________________________________\n",
      "conv2d_3 (Conv2D)            (None, 124, 124, 64)      36928     \n",
      "_________________________________________________________________\n",
      "max_pooling2d_3 (MaxPooling2 (None, 62, 62, 64)        0         \n",
      "_________________________________________________________________\n",
      "dropout_1 (Dropout)          (None, 62, 62, 64)        0         \n",
      "_________________________________________________________________\n",
      "flatten_1 (Flatten)          (None, 246016)            0         \n",
      "_________________________________________________________________\n",
      "dense_1 (Dense)              (None, 128)               31490176  \n",
      "_________________________________________________________________\n",
      "dropout_2 (Dropout)          (None, 128)               0         \n",
      "_________________________________________________________________\n",
      "dense_2 (Dense)              (None, 10)                1290      \n",
      "=================================================================\n",
      "Total params: 31,547,786\n",
      "Trainable params: 31,547,786\n",
      "Non-trainable params: 0\n",
      "_________________________________________________________________\n"
     ]
    }
   ],
   "source": [
    "model.summary()"
   ]
  },
  {
   "cell_type": "code",
   "execution_count": 11,
   "metadata": {},
   "outputs": [
    {
     "name": "stderr",
     "output_type": "stream",
     "text": [
      "W0816 16:47:25.963799 13964 deprecation_wrapper.py:119] From D:\\Software\\Anaconda\\envs\\ML\\lib\\site-packages\\keras\\optimizers.py:790: The name tf.train.Optimizer is deprecated. Please use tf.compat.v1.train.Optimizer instead.\n",
      "\n",
      "W0816 16:47:25.968786 13964 deprecation_wrapper.py:119] From D:\\Software\\Anaconda\\envs\\ML\\lib\\site-packages\\keras\\backend\\tensorflow_backend.py:3295: The name tf.log is deprecated. Please use tf.math.log instead.\n",
      "\n"
     ]
    }
   ],
   "source": [
    "#Compiling the model\n",
    "adam = optimizers.Adam(lr=0.001, epsilon= 1e-8)\n",
    "model.compile(loss='categorical_crossentropy', optimizer=adam, metrics=['accuracy'])\n"
   ]
  },
  {
   "cell_type": "code",
   "execution_count": 12,
   "metadata": {},
   "outputs": [
    {
     "name": "stderr",
     "output_type": "stream",
     "text": [
      "W0816 16:47:41.222903 13964 deprecation.py:323] From D:\\Software\\Anaconda\\envs\\ML\\lib\\site-packages\\tensorflow\\python\\ops\\math_grad.py:1250: add_dispatch_support.<locals>.wrapper (from tensorflow.python.ops.array_ops) is deprecated and will be removed in a future version.\n",
      "Instructions for updating:\n",
      "Use tf.where in 2.0, which has the same broadcast rule as np.where\n"
     ]
    },
    {
     "name": "stdout",
     "output_type": "stream",
     "text": [
      "Train on 1054 samples, validate on 44 samples\n",
      "Epoch 1/7\n",
      "1054/1054 [==============================] - 42s 40ms/step - loss: 2.9618 - acc: 0.1414 - val_loss: 2.1937 - val_acc: 0.2500\n",
      "Epoch 2/7\n",
      "1054/1054 [==============================] - 14s 13ms/step - loss: 1.9762 - acc: 0.3254 - val_loss: 1.7984 - val_acc: 0.3636\n",
      "Epoch 3/7\n",
      "1054/1054 [==============================] - 14s 13ms/step - loss: 1.5364 - acc: 0.4810 - val_loss: 1.5451 - val_acc: 0.5000\n",
      "Epoch 4/7\n",
      "1054/1054 [==============================] - 14s 14ms/step - loss: 1.2601 - acc: 0.5721 - val_loss: 1.2107 - val_acc: 0.5909\n",
      "Epoch 5/7\n",
      "1054/1054 [==============================] - 14s 13ms/step - loss: 0.9228 - acc: 0.6954 - val_loss: 1.2507 - val_acc: 0.5455\n",
      "Epoch 6/7\n",
      "1054/1054 [==============================] - 14s 14ms/step - loss: 0.6805 - acc: 0.7865 - val_loss: 1.1368 - val_acc: 0.6818\n",
      "Epoch 7/7\n",
      "1054/1054 [==============================] - 14s 14ms/step - loss: 0.3652 - acc: 0.8909 - val_loss: 1.1101 - val_acc: 0.7273\n"
     ]
    },
    {
     "data": {
      "text/plain": [
       "<keras.callbacks.History at 0x26c1c9c70b8>"
      ]
     },
     "execution_count": 12,
     "metadata": {},
     "output_type": "execute_result"
    }
   ],
   "source": [
    "#Fit the model\n",
    "model.fit(new_train, new_train_labels,validation_split=0.04, batch_size=32, epochs=7)"
   ]
  },
  {
   "cell_type": "code",
   "execution_count": 13,
   "metadata": {},
   "outputs": [
    {
     "name": "stdout",
     "output_type": "stream",
     "text": [
      "272/272 [==============================] - 3s 10ms/step\n"
     ]
    },
    {
     "data": {
      "text/plain": [
       "[1.2335347498164457, 0.6617647058823529]"
      ]
     },
     "execution_count": 13,
     "metadata": {},
     "output_type": "execute_result"
    }
   ],
   "source": [
    "model.evaluate(test_images, test_labels)"
   ]
  }
 ],
 "metadata": {
  "kernelspec": {
   "display_name": "Python 3",
   "language": "python",
   "name": "python3"
  },
  "language_info": {
   "codemirror_mode": {
    "name": "ipython",
    "version": 3
   },
   "file_extension": ".py",
   "mimetype": "text/x-python",
   "name": "python",
   "nbconvert_exporter": "python",
   "pygments_lexer": "ipython3",
   "version": "3.7.3"
  }
 },
 "nbformat": 4,
 "nbformat_minor": 2
}
