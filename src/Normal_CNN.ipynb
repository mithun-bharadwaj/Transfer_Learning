{
 "cells": [
  {
   "cell_type": "markdown",
   "metadata": {},
   "source": [
    "## Transfer Learning CNN"
   ]
  },
  {
   "cell_type": "code",
   "execution_count": 1,
   "metadata": {},
   "outputs": [],
   "source": [
    "import os\n",
    "import numpy as np\n",
    "import matplotlib.pyplot as plt\n",
    "import cv2\n",
    "import random\n"
   ]
  },
  {
   "cell_type": "code",
   "execution_count": 2,
   "metadata": {},
   "outputs": [
    {
     "name": "stderr",
     "output_type": "stream",
     "text": [
      "Using TensorFlow backend.\n"
     ]
    }
   ],
   "source": [
    "import tensorflow as tf\n",
    "from tensorflow import keras\n",
    "from keras.utils import np_utils\n",
    "from keras.models import Sequential, Model\n",
    "from keras.layers import Conv2D,MaxPooling2D,Dense,Flatten,Dropout,Input\n",
    "from keras.layers.convolutional import Convolution2D, MaxPooling2D, ZeroPadding2D\n",
    "from keras.preprocessing.image import ImageDataGenerator, array_to_img, img_to_array, load_img\n",
    "from keras import applications\n",
    "from keras import optimizers"
   ]
  },
  {
   "cell_type": "code",
   "execution_count": 3,
   "metadata": {},
   "outputs": [],
   "source": [
    "#declare the training and testing images, labels\n",
    "train_images=[]\n",
    "test_images=[]\n",
    "train_labels=[]\n",
    "test_labels=[]\n",
    "\n",
    "#number of classes\n",
    "num_classes=10"
   ]
  },
  {
   "cell_type": "code",
   "execution_count": 4,
   "metadata": {},
   "outputs": [],
   "source": [
    "training_dir=\"10-monkey-species/training\"\n",
    "validation_dir=\"10-monkey-species/validation\""
   ]
  },
  {
   "cell_type": "code",
   "execution_count": 5,
   "metadata": {},
   "outputs": [
    {
     "name": "stdout",
     "output_type": "stream",
     "text": [
      "n0 monkeys = 105\n",
      "n1 monkeys = 111\n",
      "n2 monkeys = 110\n",
      "n3 monkeys = 122\n",
      "n4 monkeys = 105\n",
      "n5 monkeys = 113\n",
      "n6 monkeys = 106\n",
      "n7 monkeys = 114\n",
      "n8 monkeys = 106\n",
      "n9 monkeys = 106\n"
     ]
    },
    {
     "data": {
      "text/plain": [
       "1098"
      ]
     },
     "execution_count": 5,
     "metadata": {},
     "output_type": "execute_result"
    }
   ],
   "source": [
    "#Reading training data\n",
    "total_images = 0\n",
    "total_count = 0\n",
    "image_size = 512\n",
    "label = -1\n",
    "training = os.listdir(training_dir)\n",
    "\n",
    "for file in training:\n",
    "    file_name = os.listdir(os.path.join(training_dir, file))\n",
    "    if len(file_name)>0:\n",
    "        label += 1\n",
    "        print(file + \" monkeys = \" + str(len(file_name)))\n",
    "        total_images += len(file_name)\n",
    "        for image in file_name:\n",
    "            path = os.path.join(training_dir, file, image)\n",
    "            img = cv2.imread(path)\n",
    "            img = cv2.resize(img, (image_size, image_size))\n",
    "            img = np.array(img)\n",
    "            train_images.append(img)\n",
    "            train_labels.append(label)\n",
    "            total_count += 1\n",
    "\n",
    "len(train_labels)"
   ]
  },
  {
   "cell_type": "code",
   "execution_count": 6,
   "metadata": {},
   "outputs": [
    {
     "name": "stdout",
     "output_type": "stream",
     "text": [
      "n0 monkeys = 26\n",
      "n1 monkeys = 28\n",
      "n2 monkeys = 27\n",
      "n3 monkeys = 30\n",
      "n4 monkeys = 26\n",
      "n5 monkeys = 28\n",
      "n6 monkeys = 26\n",
      "n7 monkeys = 28\n",
      "n8 monkeys = 27\n",
      "n9 monkeys = 26\n"
     ]
    },
    {
     "data": {
      "text/plain": [
       "272"
      ]
     },
     "execution_count": 6,
     "metadata": {},
     "output_type": "execute_result"
    }
   ],
   "source": [
    "#Reading test data\n",
    "total_images = 0\n",
    "total_count = 0\n",
    "image_size = 512\n",
    "label = -1\n",
    "test = os.listdir(validation_dir)\n",
    "\n",
    "for file in test:\n",
    "    file_name = os.listdir(os.path.join(validation_dir, file))\n",
    "    if len(file_name)>0:\n",
    "        label += 1\n",
    "        print(file + \" monkeys = \" + str(len(file_name)))\n",
    "        total_images += len(file_name)\n",
    "        for image in file_name:\n",
    "            path = os.path.join(validation_dir, file, image)\n",
    "            img = cv2.imread(path)\n",
    "            img = cv2.resize(img, (image_size, image_size))\n",
    "            img = np.array(img)\n",
    "            test_images.append(img)\n",
    "            test_labels.append(label)\n",
    "            total_count += 1\n",
    "\n",
    "len(test_labels)"
   ]
  },
  {
   "cell_type": "code",
   "execution_count": 7,
   "metadata": {},
   "outputs": [],
   "source": [
    "random.seed(1)\n",
    "idx = list(range(len(train_images)))\n",
    "shuffled = random.shuffle(idx)\n",
    "new_train = [train_images[i] for i in idx]\n",
    "new_train_labels = [train_labels[i] for i in idx]"
   ]
  },
  {
   "cell_type": "code",
   "execution_count": 8,
   "metadata": {},
   "outputs": [],
   "source": [
    "#normalizing the data\n",
    "new_train = np.array(new_train)\n",
    "test_images = np.array(test_images)\n",
    "new_train = new_train.astype('float32')/255\n",
    "test_images = test_images.astype('float32')/255\n",
    "\n",
    "new_train_labels = np.array(new_train_labels)\n",
    "test_labels = np.array(test_labels)\n",
    "new_train_labels = keras.utils.to_categorical(new_train_labels,num_classes)\n",
    "test_labels = keras.utils.to_categorical(test_labels,num_classes)\n",
    "\n"
   ]
  },
  {
   "cell_type": "code",
   "execution_count": 9,
   "metadata": {},
   "outputs": [
    {
     "name": "stdout",
     "output_type": "stream",
     "text": [
      "WARNING:tensorflow:From D:\\Software\\Anaconda\\envs\\ML\\lib\\site-packages\\tensorflow\\python\\framework\\op_def_library.py:263: colocate_with (from tensorflow.python.framework.ops) is deprecated and will be removed in a future version.\n",
      "Instructions for updating:\n",
      "Colocations handled automatically by placer.\n",
      "WARNING:tensorflow:From D:\\Software\\Anaconda\\envs\\ML\\lib\\site-packages\\keras\\backend\\tensorflow_backend.py:3445: calling dropout (from tensorflow.python.ops.nn_ops) with keep_prob is deprecated and will be removed in a future version.\n",
      "Instructions for updating:\n",
      "Please use `rate` instead of `keep_prob`. Rate should be set to `rate = 1 - keep_prob`.\n"
     ]
    }
   ],
   "source": [
    "#Building the CNN model\n",
    "model=Sequential()\n",
    "model.add(Conv2D(32, (3, 3), activation='relu', input_shape=(512, 512, 3)))\n",
    "model.add(MaxPooling2D(pool_size=(2, 2)))\n",
    "model.add(Conv2D(64, (3, 3), activation='relu'))\n",
    "model.add(MaxPooling2D(pool_size=(2, 2)))\n",
    "model.add((Conv2D(64, (3,3), activation='relu' )))\n",
    "model.add(MaxPooling2D(pool_size= (2,2)))\n",
    "model.add(Dropout(0.25))\n",
    "model.add(Flatten())\n",
    "model.add(Dense(128, activation='relu'))\n",
    "model.add(Dropout(0.5))\n",
    "model.add(Dense(10, activation='softmax'))"
   ]
  },
  {
   "cell_type": "code",
   "execution_count": 10,
   "metadata": {},
   "outputs": [
    {
     "name": "stdout",
     "output_type": "stream",
     "text": [
      "_________________________________________________________________\n",
      "Layer (type)                 Output Shape              Param #   \n",
      "=================================================================\n",
      "conv2d_1 (Conv2D)            (None, 510, 510, 32)      896       \n",
      "_________________________________________________________________\n",
      "max_pooling2d_1 (MaxPooling2 (None, 255, 255, 32)      0         \n",
      "_________________________________________________________________\n",
      "conv2d_2 (Conv2D)            (None, 253, 253, 64)      18496     \n",
      "_________________________________________________________________\n",
      "max_pooling2d_2 (MaxPooling2 (None, 126, 126, 64)      0         \n",
      "_________________________________________________________________\n",
      "conv2d_3 (Conv2D)            (None, 124, 124, 64)      36928     \n",
      "_________________________________________________________________\n",
      "max_pooling2d_3 (MaxPooling2 (None, 62, 62, 64)        0         \n",
      "_________________________________________________________________\n",
      "dropout_1 (Dropout)          (None, 62, 62, 64)        0         \n",
      "_________________________________________________________________\n",
      "flatten_1 (Flatten)          (None, 246016)            0         \n",
      "_________________________________________________________________\n",
      "dense_1 (Dense)              (None, 128)               31490176  \n",
      "_________________________________________________________________\n",
      "dropout_2 (Dropout)          (None, 128)               0         \n",
      "_________________________________________________________________\n",
      "dense_2 (Dense)              (None, 10)                1290      \n",
      "=================================================================\n",
      "Total params: 31,547,786\n",
      "Trainable params: 31,547,786\n",
      "Non-trainable params: 0\n",
      "_________________________________________________________________\n"
     ]
    }
   ],
   "source": [
    "model.summary()"
   ]
  },
  {
   "cell_type": "code",
   "execution_count": 11,
   "metadata": {},
   "outputs": [],
   "source": [
    "#Compiling the model\n",
    "model.compile(loss='categorical_crossentropy', optimizer='adam', metrics=['accuracy'])\n"
   ]
  },
  {
   "cell_type": "code",
   "execution_count": 12,
   "metadata": {},
   "outputs": [
    {
     "name": "stdout",
     "output_type": "stream",
     "text": [
      "WARNING:tensorflow:From D:\\Software\\Anaconda\\envs\\ML\\lib\\site-packages\\tensorflow\\python\\ops\\math_ops.py:3066: to_int32 (from tensorflow.python.ops.math_ops) is deprecated and will be removed in a future version.\n",
      "Instructions for updating:\n",
      "Use tf.cast instead.\n",
      "Train on 1054 samples, validate on 44 samples\n",
      "Epoch 1/7\n",
      "1054/1054 [==============================] - 239s 227ms/step - loss: 2.7678 - acc: 0.1243 - val_loss: 2.1756 - val_acc: 0.2500\n",
      "Epoch 2/7\n",
      "1054/1054 [==============================] - 225s 213ms/step - loss: 1.9912 - acc: 0.3008 - val_loss: 1.9435 - val_acc: 0.3409\n",
      "Epoch 3/7\n",
      "1054/1054 [==============================] - 224s 213ms/step - loss: 1.6318 - acc: 0.4488 - val_loss: 1.5477 - val_acc: 0.4318\n",
      "Epoch 4/7\n",
      "1054/1054 [==============================] - 225s 213ms/step - loss: 1.2592 - acc: 0.5854 - val_loss: 1.6592 - val_acc: 0.3864\n",
      "Epoch 5/7\n",
      "1054/1054 [==============================] - 224s 213ms/step - loss: 0.9511 - acc: 0.7011 - val_loss: 1.4893 - val_acc: 0.4773\n",
      "Epoch 6/7\n",
      "1054/1054 [==============================] - 225s 213ms/step - loss: 0.6915 - acc: 0.7932 - val_loss: 1.5107 - val_acc: 0.5227\n",
      "Epoch 7/7\n",
      "1054/1054 [==============================] - 224s 213ms/step - loss: 0.5236 - acc: 0.8368 - val_loss: 1.7063 - val_acc: 0.5227\n"
     ]
    },
    {
     "data": {
      "text/plain": [
       "<keras.callbacks.History at 0x1ce1afaad30>"
      ]
     },
     "execution_count": 12,
     "metadata": {},
     "output_type": "execute_result"
    }
   ],
   "source": [
    "#Fit the model\n",
    "model.fit(new_train, new_train_labels,validation_split=0.04, batch_size=32, epochs=7)"
   ]
  },
  {
   "cell_type": "code",
   "execution_count": 13,
   "metadata": {},
   "outputs": [
    {
     "name": "stdout",
     "output_type": "stream",
     "text": [
      "272/272 [==============================] - 19s 70ms/step\n"
     ]
    },
    {
     "data": {
      "text/plain": [
       "[1.561158909517176, 0.5404411764705882]"
      ]
     },
     "execution_count": 13,
     "metadata": {},
     "output_type": "execute_result"
    }
   ],
   "source": [
    "model.evaluate(test_images, test_labels)"
   ]
  }
 ],
 "metadata": {
  "kernelspec": {
   "display_name": "Python 3",
   "language": "python",
   "name": "python3"
  },
  "language_info": {
   "codemirror_mode": {
    "name": "ipython",
    "version": 3
   },
   "file_extension": ".py",
   "mimetype": "text/x-python",
   "name": "python",
   "nbconvert_exporter": "python",
   "pygments_lexer": "ipython3",
   "version": "3.7.3"
  }
 },
 "nbformat": 4,
 "nbformat_minor": 2
}
